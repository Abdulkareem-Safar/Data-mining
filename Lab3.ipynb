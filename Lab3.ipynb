{
 "cells": [
  {
   "cell_type": "code",
   "execution_count": 13,
   "metadata": {},
   "outputs": [],
   "source": [
    "def conform(fav):\n",
    "    fav=42\n",
    "    return fav"
   ]
  },
  {
   "cell_type": "code",
   "execution_count": 32,
   "metadata": {},
   "outputs": [
    {
     "name": "stdout",
     "output_type": "stream",
     "text": [
      "Welcome!\n",
      "My favorite # is 7\n"
     ]
    }
   ],
   "source": [
    "if __name__ == \"__main__\" :\n",
    "    print('Welcome!')\n",
    "    fav = 7\n",
    "    conform(fav)\n",
    "    print(\"My favorite # is\", fav)"
   ]
  },
  {
   "cell_type": "code",
   "execution_count": 20,
   "metadata": {},
   "outputs": [
    {
     "name": "stdout",
     "output_type": "stream",
     "text": [
      "Inside the function {'A': 28, 'B': 25, 'C': 32, 'D': 25, 'E': 30, 'F': 28}\n",
      "Outside the function {'A': 28, 'B': 25, 'C': 32, 'D': 25, 'E': 30, 'F': 28}\n"
     ]
    }
   ],
   "source": [
    "student={'A':28,'B':25,'C':32,'D':25}\n",
    "def test(student):\n",
    "    new={'E':30,'F':28}\n",
    "    student.update(new)\n",
    "    print(\"Inside the function\",student)\n",
    "    return\n",
    "test(student)\n",
    "print(\"Outside the function\",student)"
   ]
  },
  {
   "cell_type": "code",
   "execution_count": 33,
   "metadata": {},
   "outputs": [
    {
     "name": "stdout",
     "output_type": "stream",
     "text": [
      "Type something to test this out: 12\n",
      "['12']\n"
     ]
    }
   ],
   "source": [
    "class Student:\n",
    "    \n",
    "    def __init__(self,name):\n",
    "        self.name=name\n",
    "        self.course_list= []\n",
    "    def add(self, new_course):\n",
    "        self.course_list.append(new_course)\n",
    "\n",
    "class Person:\n",
    "    pass\n",
    "\n",
    "std=Student(\"Set_here_your_name\")\n",
    "txt = input(\"Type something to test this out: \")#input\n",
    "std.add(txt)\n",
    "print(std.course_list)"
   ]
  },
  {
   "cell_type": "code",
   "execution_count": 30,
   "metadata": {},
   "outputs": [
    {
     "name": "stdout",
     "output_type": "stream",
     "text": [
      "Mohammed Ali\n",
      "Information System\n"
     ]
    }
   ],
   "source": [
    "class Person:\n",
    "    def __init__(self,fname,lname):\n",
    "        self.firstname=fname\n",
    "        self.lastname=lname\n",
    "        \n",
    "    def printname(self):\n",
    "        print(self.firstname,self.lastname)\n",
    "        \n",
    "class Professor(Person):\n",
    "    def __init__(self,fname,lname):#E2.3\n",
    "        self.department='Information System'\n",
    "        Person.__init__(self,fname,lname)\n",
    "        \n",
    "mhd = Professor(\"Mohammed\",\"Ali\")\n",
    "mhd.printname()\n",
    "print(mhd.department)"
   ]
  },
  {
   "cell_type": "code",
   "execution_count": null,
   "metadata": {},
   "outputs": [],
   "source": []
  }
 ],
 "metadata": {
  "kernelspec": {
   "display_name": "Python 3",
   "language": "python",
   "name": "python3"
  },
  "language_info": {
   "codemirror_mode": {
    "name": "ipython",
    "version": 3
   },
   "file_extension": ".py",
   "mimetype": "text/x-python",
   "name": "python",
   "nbconvert_exporter": "python",
   "pygments_lexer": "ipython3",
   "version": "3.8.5"
  }
 },
 "nbformat": 4,
 "nbformat_minor": 4
}
